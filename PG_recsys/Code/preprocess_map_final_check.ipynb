{
 "metadata": {
  "language_info": {
   "codemirror_mode": {
    "name": "ipython",
    "version": 3
   },
   "file_extension": ".py",
   "mimetype": "text/x-python",
   "name": "python",
   "nbconvert_exporter": "python",
   "pygments_lexer": "ipython3",
   "version": "3.7.9"
  },
  "orig_nbformat": 2,
  "kernelspec": {
   "name": "python379jvsc74a57bd0c70c85ceae9ec306625909fa23946af02e638c8063a7c5d11c764988a66b2d5d",
   "display_name": "Python 3.7.9 64-bit ('jk_lab': conda)"
  }
 },
 "nbformat": 4,
 "nbformat_minor": 2,
 "cells": [
  {
   "cell_type": "code",
   "execution_count": 269,
   "metadata": {},
   "outputs": [],
   "source": [
    "import pandas as pd \n",
    "import numpy as np\n",
    "import glob\n",
    "__file__ = \"preprocess_map_final_check.ipynb\"\n",
    "dirname = os.path.dirname(os.path.abspath(os.path.dirname(__file__)))\n",
    "sys.path.append(dirname)"
   ]
  },
  {
   "cell_type": "code",
   "execution_count": 341,
   "metadata": {},
   "outputs": [],
   "source": [
    "df = pd.read_csv(dirname + \"/Data/base_mapping_file.csv\")\n",
    "c_df = df[[\"대분류\", \"중분류\",\"소분류\"]]\n",
    "c_df = c_df.drop_duplicates()\n",
    "c_df.reset_index(drop = True, inplace = True)"
   ]
  },
  {
   "cell_type": "code",
   "execution_count": 346,
   "metadata": {},
   "outputs": [],
   "source": [
    "# 상품들의 다른 통로상 중복 배치 확인\n",
    "for i in range(len(c_df)):\n",
    "    extract_list = df[(df.대분류 == c_df.loc[i, \"대분류\"])&(df.중분류 == c_df.loc[i, \"중분류\"])&(df.소분류 == c_df.loc[i, \"소분류\"])].통로구분.unique()\n",
    "    if len(extract_list) > 1:\n",
    "        print(extract_list, c_df.loc[i, [\"대분류\",\"중분류\",\"소분류\"]].to_list())"
   ]
  },
  {
   "cell_type": "code",
   "execution_count": 276,
   "metadata": {},
   "outputs": [
    {
     "output_type": "stream",
     "name": "stderr",
     "text": [
      "/home/shinjk1156/.conda/envs/jk_lab/lib/python3.7/site-packages/IPython/core/interactiveshell.py:3146: DtypeWarning: Columns (10) have mixed types.Specify dtype option on import or set low_memory=False.\n  interactivity=interactivity, compiler=compiler, result=result)\n"
     ]
    }
   ],
   "source": [
    "csvlist= glob.glob(dirname + \"/Data/*/*.csv\", recursive= True)\n",
    "class_df = pd.DataFrame(columns=[\"대분류\", \"중분류\", \"소분류\"])\n",
    "for file in csvlist:\n",
    "    data = pd.read_csv(file)\n",
    "    class_df = pd.concat([class_df, data.loc[:,[\"대분류\", \"중분류\", \"소분류\"]]])\n",
    "    class_df.drop_duplicates(inplace= True)\n",
    "    class_df.reset_index(inplace = True, drop= True)"
   ]
  },
  {
   "cell_type": "code",
   "execution_count": 347,
   "metadata": {
    "tags": []
   },
   "outputs": [],
   "source": [
    "empty_df = pd.DataFrame(columns= [\"대분류\", \"중분류\", \"소분류\"])\n",
    "for i in range(len(class_df)):\n",
    "    ex_list = c_df[(c_df.대분류 == class_df.loc[i,\"대분류\"])& (c_df.중분류 == class_df.loc[i,\"중분류\"])& (c_df.소분류 == class_df.loc[i,\"소분류\"])]\n",
    "    if len(ex_list) == 0:\n",
    "        empty_df = empty_df.append(class_df.loc[i,:])"
   ]
  },
  {
   "cell_type": "code",
   "execution_count": 348,
   "metadata": {},
   "outputs": [],
   "source": [
    "empty_df.reset_index(inplace = True, drop = True)"
   ]
  },
  {
   "cell_type": "code",
   "execution_count": 356,
   "metadata": {},
   "outputs": [],
   "source": [
    "empty_df.to_csv(\"제외품목.csv\", encoding= \"euc_kr\")"
   ]
  }
 ]
}