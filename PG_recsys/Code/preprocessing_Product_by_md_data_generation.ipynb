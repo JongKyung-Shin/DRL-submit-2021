{
 "metadata": {
  "language_info": {
   "codemirror_mode": {
    "name": "ipython",
    "version": 3
   },
   "file_extension": ".py",
   "mimetype": "text/x-python",
   "name": "python",
   "nbconvert_exporter": "python",
   "pygments_lexer": "ipython3",
   "version": "3.7.9"
  },
  "orig_nbformat": 4,
  "kernelspec": {
   "name": "python3",
   "display_name": "Python 3.7.9 64-bit ('jk_lab': conda)"
  },
  "interpreter": {
   "hash": "c70c85ceae9ec306625909fa23946af02e638c8063a7c5d11c764988a66b2d5d"
  }
 },
 "nbformat": 4,
 "nbformat_minor": 2,
 "cells": [
  {
   "cell_type": "code",
   "execution_count": 1,
   "metadata": {},
   "outputs": [],
   "source": [
    "import numpy as np\n",
    "import json\n",
    "import pandas as pd\n",
    "import os\n",
    "import sys\n",
    "from tqdm import tqdm\n",
    "__file__ = \"state_generator.py\"\n",
    "dirname = os.path.dirname(os.path.abspath(os.path.dirname(__file__)))\n",
    "sys.path.append(dirname)\n",
    "\n",
    "with open(dirname + \"/Data/json_file/purchase_202001_ver4.json\") as json_file:\n",
    "    stream_data = json.load(json_file)\n",
    "\n",
    "#데이터 내의 전체 상품\n",
    "key_list = list(stream_data.keys())"
   ]
  },
  {
   "cell_type": "code",
   "execution_count": 2,
   "metadata": {},
   "outputs": [
    {
     "output_type": "stream",
     "name": "stderr",
     "text": [
      "100%|██████████| 41716/41716 [00:10<00:00, 3995.56it/s]\n"
     ]
    }
   ],
   "source": [
    "all_product_list = []\n",
    "for key in tqdm(key_list):\n",
    "    goods_list = stream_data[key][\"purchase_list\"]\n",
    "    for good in goods_list:\n",
    "        if good[\"소분류\"] not in all_product_list:\n",
    "            all_product_list.append(good[\"소분류\"])"
   ]
  },
  {
   "cell_type": "code",
   "execution_count": 66,
   "metadata": {},
   "outputs": [],
   "source": [
    "#all_product_list = [int(ele) for ele in all_product_list]"
   ]
  },
  {
   "source": [
    "product_arr = np.zeros((30,38,len(all_product_list)))"
   ],
   "cell_type": "code",
   "metadata": {},
   "execution_count": 3,
   "outputs": []
  },
  {
   "cell_type": "code",
   "execution_count": 4,
   "metadata": {
    "tags": []
   },
   "outputs": [
    {
     "output_type": "stream",
     "name": "stderr",
     "text": [
      "100%|██████████| 41716/41716 [00:12<00:00, 3312.88it/s]\n"
     ]
    }
   ],
   "source": [
    "for key in tqdm(key_list):\n",
    "    goods_list= stream_data[key][\"purchase_list\"]\n",
    "    for good in goods_list:\n",
    "        temp = product_arr[int(good[\"row\"])][int(good[\"column\"])]\n",
    "        idx = all_product_list.index(good[\"소분류\"])\n",
    "        temp[idx] = 1\n",
    "        product_arr[int(good[\"row\"])][int(good[\"column\"])] = temp"
   ]
  },
  {
   "cell_type": "code",
   "execution_count": 8,
   "metadata": {},
   "outputs": [
    {
     "output_type": "execute_result",
     "data": {
      "text/plain": [
       "(30, 38, 8603)"
      ]
     },
     "metadata": {},
     "execution_count": 8
    }
   ],
   "source": [
    "product_arr.shape"
   ]
  },
  {
   "cell_type": "code",
   "execution_count": 6,
   "metadata": {},
   "outputs": [
    {
     "output_type": "execute_result",
     "data": {
      "text/plain": [
       "{'purchase_list': [{'상품명': '대림)주부유부초밥짱',\n",
       "   '상품코드': '8801066600386',\n",
       "   '대분류': '일배',\n",
       "   '중분류': '수산가공',\n",
       "   '소분류': '유부',\n",
       "   'row': '24',\n",
       "   'column': '7'},\n",
       "  {'상품명': '켈로그 콘푸로스트600',\n",
       "   '상품코드': '8801083001425',\n",
       "   '대분류': '과자',\n",
       "   '중분류': '씨리얼',\n",
       "   '소분류': '씨리얼',\n",
       "   'row': '15',\n",
       "   'column': '18'}],\n",
       " '성별': 'F',\n",
       " '회원구분': '개인',\n",
       " '회원등급': '개인/패밀리',\n",
       " '업종유형': '개인'}"
      ]
     },
     "metadata": {},
     "execution_count": 6
    }
   ],
   "source": [
    "stream_data[key]"
   ]
  },
  {
   "cell_type": "code",
   "execution_count": 7,
   "metadata": {},
   "outputs": [],
   "source": [
    "np.save(dirname+\"/Data/products_by_md_H_상품.npy\", product_arr)"
   ]
  },
  {
   "cell_type": "code",
   "execution_count": 13,
   "metadata": {},
   "outputs": [],
   "source": [
    "new = np.load(dirname + \"/Data/products_by_md_H_소분류.npy\")"
   ]
  },
  {
   "cell_type": "code",
   "execution_count": 14,
   "metadata": {},
   "outputs": [
    {
     "output_type": "execute_result",
     "data": {
      "text/plain": [
       "(30, 38, 568)"
      ]
     },
     "metadata": {},
     "execution_count": 14
    }
   ],
   "source": [
    "new.shape"
   ]
  },
  {
   "cell_type": "code",
   "execution_count": null,
   "metadata": {},
   "outputs": [],
   "source": []
  }
 ]
}