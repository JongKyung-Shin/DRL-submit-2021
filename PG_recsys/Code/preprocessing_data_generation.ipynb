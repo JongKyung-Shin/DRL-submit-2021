{
 "metadata": {
  "language_info": {
   "codemirror_mode": {
    "name": "ipython",
    "version": 3
   },
   "file_extension": ".py",
   "mimetype": "text/x-python",
   "name": "python",
   "nbconvert_exporter": "python",
   "pygments_lexer": "ipython3",
   "version": "3.7.9"
  },
  "orig_nbformat": 2,
  "kernelspec": {
   "name": "python3",
   "display_name": "Python 3.7.9 64-bit ('jk_lab': conda)"
  },
  "interpreter": {
   "hash": "c70c85ceae9ec306625909fa23946af02e638c8063a7c5d11c764988a66b2d5d"
  }
 },
 "nbformat": 4,
 "nbformat_minor": 2,
 "cells": [
  {
   "cell_type": "code",
   "execution_count": 1,
   "metadata": {},
   "outputs": [],
   "source": [
    "import numpy as np\n",
    "import pandas as pd\n",
    "from tqdm import tqdm\n",
    "from sequence_generator import sequence_generation\n",
    "__file__ = \"preprocess_data_generation.ipynb\"\n",
    "dirname = os.path.dirname(os.path.abspath(os.path.dirname(__file__)))\n",
    "sys.path.append(dirname)"
   ]
  },
  {
   "cell_type": "code",
   "execution_count": 2,
   "metadata": {},
   "outputs": [],
   "source": [
    "df = pd.read_csv(dirname + \"/Data/csv_folder/매출TR_202001.csv\")\n",
    "df.drop(columns=[\"Unnamed: 0\"], inplace = True)\n",
    "df.dropna(subset= [\"회원카드번호\"], inplace = True)\n",
    "df.drop_duplicates(inplace = True)\n",
    "df.reset_index(inplace = True, drop = True)\n",
    "loc_df = pd.read_csv(dirname + \"/Data/base_mapping_file.csv\")\n",
    "custom_inf = [\"성별\", \"회원구분\", \"회원등급\", \"업종유형\"]"
   ]
  },
  {
   "cell_type": "code",
   "execution_count": 8,
   "metadata": {},
   "outputs": [
    {
     "output_type": "stream",
     "name": "stderr",
     "text": [
      "100%|██████████| 433966/433966 [00:10<00:00, 41290.28it/s]\n"
     ]
    }
   ],
   "source": [
    "id_list = []\n",
    "for i in tqdm(range(len(df))):\n",
    "    id_list.append((df.거래번호[i], int(df.회원카드번호[i])))\n",
    "id_list = list(set(id_list))"
   ]
  },
  {
   "cell_type": "code",
   "execution_count": 9,
   "metadata": {
    "tags": []
   },
   "outputs": [
    {
     "output_type": "stream",
     "name": "stderr",
     "text": [
      "100%|██████████| 62783/62783 [15:49<00:00, 66.15it/s]\n"
     ]
    }
   ],
   "source": [
    "#Stream data 그자체 생성하는 code (고객정보 + 상품 선택 순서정보) -> json file\n",
    "dic  = {}\n",
    "start_point = [24,0]\n",
    "end_point = [12,0]\n",
    "for idx, id in tqdm(id_list):\n",
    "    temp = df[(df.거래번호 == idx) & (df.회원카드번호 == id)]\n",
    "    temp.reset_index(inplace= True, drop = True)\n",
    "    path_list = []\n",
    "    for i in range(len(temp)):\n",
    "        good_loc = loc_df[(loc_df.대분류 == temp.loc[i, \"대분류\"]) &(loc_df.중분류 == temp.loc[i, \"중분류\"])& (loc_df.소분류 == temp.loc[i, \"소분류\"])][[\"row\",\"column\"]].values\n",
    "        if len(good_loc) == 0:\n",
    "            pass\n",
    "        else:\n",
    "            path_list.append(list(good_loc[0]))\n",
    "\n",
    "    if len(temp) == len(path_list):\n",
    "        if temp.성별[0] in [\"M\", \"F\"]:\n",
    "            if temp.회원구분[0] != \"직원\":\n",
    "                if str(temp.회원등급[0]) != \"nan\":\n",
    "                    if str(temp.업종유형[0]) != \"nan\":\n",
    "                        if (idx,id) not in dic.keys():\n",
    "                            dic[str((idx,id))] = {\n",
    "                                \"purchase_list\" : [], \n",
    "                                \"성별\" : temp.성별[0], \n",
    "                                \"회원구분\" : temp.회원구분[0], \n",
    "                                \"회원등급\" : temp.회원등급[0], \n",
    "                                \"업종유형\" :temp.업종유형[0] \n",
    "                                }\n",
    "                        \n",
    "                        result_list = sequence_generation(start_point, path_list, end_point)\n",
    "                        result_list.remove(len(result_list)-1)\n",
    "                        result_list.remove(0)\n",
    "                        result_list = list(np.array(result_list)-1)\n",
    "                        \n",
    "                        for i in result_list:\n",
    "                            dic[str((idx,id))][\"purchase_list\"].append(\n",
    "                                {\n",
    "                                    \"상품명\" : temp.loc[i,\"상품명\"],\n",
    "                                    \"상품코드\" : str(temp.loc[i,\"상품코드\"]),\n",
    "                                    \"대분류\" : temp.loc[i,\"대분류\"],\n",
    "                                    \"중분류\" : temp.loc[i,\"중분류\"],\n",
    "                                    \"소분류\" : temp.loc[i,\"소분류\"],\n",
    "                                    \"row\" : str(path_list[i][0]),\n",
    "                                    \"column\" : str(path_list[i][1])\n",
    "                                }\n",
    "                            )"
   ]
  },
  {
   "cell_type": "code",
   "execution_count": 10,
   "metadata": {},
   "outputs": [],
   "source": [
    "import json\n",
    "with open(dirname+\"/Data/json_file/purchase_202001_ver4.json\", 'w') as jsonfile:\n",
    "    json.dump(dic, jsonfile)\n"
   ]
  },
  {
   "cell_type": "code",
   "execution_count": 6,
   "metadata": {},
   "outputs": [],
   "source": [
    "price_df = pd.DataFrame()\n",
    "price_df[\"상품명\"] = df[\"상품명\"]\n",
    "price_df[\"단가\"] = df[\"단가\"]\n"
   ]
  },
  {
   "cell_type": "code",
   "execution_count": null,
   "metadata": {},
   "outputs": [],
   "source": [
    "price_df.drop_duplicates(inplace = True)"
   ]
  },
  {
   "cell_type": "code",
   "execution_count": null,
   "metadata": {},
   "outputs": [],
   "source": [
    "price_df"
   ]
  },
  {
   "cell_type": "code",
   "execution_count": null,
   "metadata": {},
   "outputs": [],
   "source": []
  }
 ]
}